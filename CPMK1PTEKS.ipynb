{
  "nbformat": 4,
  "nbformat_minor": 0,
  "metadata": {
    "colab": {
      "provenance": [],
      "toc_visible": true
    },
    "kernelspec": {
      "name": "python3",
      "display_name": "Python 3"
    },
    "language_info": {
      "name": "python"
    }
  },
  "cells": [
    {
      "cell_type": "code",
      "execution_count": 1,
      "metadata": {
        "colab": {
          "base_uri": "https://localhost:8080/"
        },
        "id": "dVFq8uvxhBCF",
        "outputId": "344271a5-4030-4bcb-d307-56e6d3cbecb5"
      },
      "outputs": [
        {
          "output_type": "stream",
          "name": "stdout",
          "text": [
            "Collecting youtube-comment-downloader\n",
            "  Downloading youtube_comment_downloader-0.1.78-py3-none-any.whl.metadata (2.9 kB)\n",
            "Collecting dateparser (from youtube-comment-downloader)\n",
            "  Downloading dateparser-1.2.2-py3-none-any.whl.metadata (29 kB)\n",
            "Requirement already satisfied: requests in /usr/local/lib/python3.12/dist-packages (from youtube-comment-downloader) (2.32.4)\n",
            "Requirement already satisfied: python-dateutil>=2.7.0 in /usr/local/lib/python3.12/dist-packages (from dateparser->youtube-comment-downloader) (2.9.0.post0)\n",
            "Requirement already satisfied: pytz>=2024.2 in /usr/local/lib/python3.12/dist-packages (from dateparser->youtube-comment-downloader) (2025.2)\n",
            "Requirement already satisfied: regex>=2024.9.11 in /usr/local/lib/python3.12/dist-packages (from dateparser->youtube-comment-downloader) (2024.11.6)\n",
            "Requirement already satisfied: tzlocal>=0.2 in /usr/local/lib/python3.12/dist-packages (from dateparser->youtube-comment-downloader) (5.3.1)\n",
            "Requirement already satisfied: charset_normalizer<4,>=2 in /usr/local/lib/python3.12/dist-packages (from requests->youtube-comment-downloader) (3.4.3)\n",
            "Requirement already satisfied: idna<4,>=2.5 in /usr/local/lib/python3.12/dist-packages (from requests->youtube-comment-downloader) (3.10)\n",
            "Requirement already satisfied: urllib3<3,>=1.21.1 in /usr/local/lib/python3.12/dist-packages (from requests->youtube-comment-downloader) (2.5.0)\n",
            "Requirement already satisfied: certifi>=2017.4.17 in /usr/local/lib/python3.12/dist-packages (from requests->youtube-comment-downloader) (2025.8.3)\n",
            "Requirement already satisfied: six>=1.5 in /usr/local/lib/python3.12/dist-packages (from python-dateutil>=2.7.0->dateparser->youtube-comment-downloader) (1.17.0)\n",
            "Downloading youtube_comment_downloader-0.1.78-py3-none-any.whl (8.3 kB)\n",
            "Downloading dateparser-1.2.2-py3-none-any.whl (315 kB)\n",
            "\u001b[2K   \u001b[90m━━━━━━━━━━━━━━━━━━━━━━━━━━━━━━━━━━━━━━━━\u001b[0m \u001b[32m315.5/315.5 kB\u001b[0m \u001b[31m6.5 MB/s\u001b[0m eta \u001b[36m0:00:00\u001b[0m\n",
            "\u001b[?25hInstalling collected packages: dateparser, youtube-comment-downloader\n",
            "Successfully installed dateparser-1.2.2 youtube-comment-downloader-0.1.78\n"
          ]
        }
      ],
      "source": [
        "!pip install youtube-comment-downloader"
      ]
    },
    {
      "cell_type": "code",
      "source": [
        "from youtube_comment_downloader import YoutubeCommentDownloader\n",
        "import pandas as pd\n",
        "\n",
        "\n",
        "# URL video\n",
        "video_url = \"https://youtu.be/3rI0xzxO7rA?si=oPshco5_A9mpo5mX\"\n",
        "\n",
        "# Inisialisasi downloader\n",
        "downloader = YoutubeCommentDownloader()\n",
        "comments = downloader.get_comments_from_url(video_url, sort_by=0)  # 0 = top, 1 = newest\n",
        "\n",
        "results = []\n",
        "count = 0\n",
        "limit = 1000  # jumlah maksimal komentar yang diambil\n",
        "\n",
        "for comment in comments:\n",
        "    results.append({\n",
        "        \"author\": comment['author'],\n",
        "        \"comment\": comment['text']\n",
        "    })\n",
        "    count += 1\n",
        "    if count >= limit:\n",
        "        break\n",
        "\n",
        "# Simpan ke CSV\n",
        "df = pd.DataFrame(results)\n",
        "output_file = \"youtube_comments.csv\"\n",
        "df.to_csv(output_file, index=False, encoding=\"utf-8\")\n",
        "\n",
        "print(f\"✅ Selesai! {len(results)} komentar tersimpan di {output_file}\")\n"
      ],
      "metadata": {
        "colab": {
          "base_uri": "https://localhost:8080/"
        },
        "id": "23LSchJHhJob",
        "outputId": "9aa6cd14-6137-4b7e-e294-9da62a168756"
      },
      "execution_count": 5,
      "outputs": [
        {
          "output_type": "stream",
          "name": "stdout",
          "text": [
            "✅ Selesai! 1000 komentar tersimpan di youtube_comments.csv\n"
          ]
        }
      ]
    }
  ]
}